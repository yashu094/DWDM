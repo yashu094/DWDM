{
  "nbformat": 4,
  "nbformat_minor": 0,
  "metadata": {
    "colab": {
      "provenance": [],
      "authorship_tag": "ABX9TyNFb76wHLqEgpZOkst/uAtA",
      "include_colab_link": true
    },
    "kernelspec": {
      "name": "python3",
      "display_name": "Python 3"
    },
    "language_info": {
      "name": "python"
    }
  },
  "cells": [
    {
      "cell_type": "markdown",
      "metadata": {
        "id": "view-in-github",
        "colab_type": "text"
      },
      "source": [
        "<a href=\"https://colab.research.google.com/github/yashu094/DWDM/blob/main/DWDM-exp1%2C2%2C3.ipynb\" target=\"_parent\"><img src=\"https://colab.research.google.com/assets/colab-badge.svg\" alt=\"Open In Colab\"/></a>"
      ]
    },
    {
      "cell_type": "code",
      "execution_count": 52,
      "metadata": {
        "id": "9AdMap0lK4_b"
      },
      "outputs": [],
      "source": [
        "import numpy as np\n",
        "import pandas as pd\n",
        "from sklearn.preprocessing import StandardScaler\n",
        "from sklearn.model_selection import train_test_split\n"
      ]
    },
    {
      "cell_type": "code",
      "source": [
        "a=pd.read_csv('/content/50_Startups.csv')"
      ],
      "metadata": {
        "id": "3aEAM7Q0LCwX"
      },
      "execution_count": 53,
      "outputs": []
    },
    {
      "cell_type": "code",
      "source": [
        "print(a)"
      ],
      "metadata": {
        "colab": {
          "base_uri": "https://localhost:8080/"
        },
        "id": "mlOumsTILplg",
        "outputId": "90cec8a9-077b-45a7-ace3-cfffd5834b1c"
      },
      "execution_count": 54,
      "outputs": [
        {
          "output_type": "stream",
          "name": "stdout",
          "text": [
            "    R&D Spend  Administration  Marketing Spend       State     Profit\n",
            "0   165349.20       136897.80        471784.10    New York  192261.83\n",
            "1   162597.70       151377.59        443898.53  California  191792.06\n",
            "2   153441.51       101145.55        407934.54     Florida  191050.39\n",
            "3   144372.41       118671.85        383199.62    New York  182901.99\n",
            "4   142107.34        91391.77        366168.42     Florida  166187.94\n",
            "5   131876.90        99814.71        362861.36    New York  156991.12\n",
            "6   134615.46       147198.87        127716.82  California  156122.51\n",
            "7   130298.13       145530.06        323876.68     Florida  155752.60\n",
            "8   120542.52       148718.95        311613.29    New York  152211.77\n",
            "9   123334.88       108679.17        304981.62  California  149759.96\n",
            "10  101913.08       110594.11        229160.95     Florida  146121.95\n",
            "11  100671.96        91790.61        249744.55  California  144259.40\n",
            "12   93863.75       127320.38        249839.44     Florida  141585.52\n",
            "13   91992.39       135495.07        252664.93  California  134307.35\n",
            "14  119943.24       156547.42        256512.92     Florida  132602.65\n",
            "15  114523.61       122616.84        261776.23    New York  129917.04\n",
            "16   78013.11       121597.55        264346.06  California  126992.93\n",
            "17   94657.16       145077.58        282574.31    New York  125370.37\n",
            "18   91749.16       114175.79        294919.57     Florida  124266.90\n",
            "19   86419.70       153514.11             0.00    New York  122776.86\n",
            "20   76253.86       113867.30        298664.47  California  118474.03\n",
            "21   78389.47       153773.43        299737.29    New York  111313.02\n",
            "22   73994.56       122782.75        303319.26     Florida  110352.25\n",
            "23   67532.53       105751.03        304768.73     Florida        NaN\n",
            "24   77044.01        99281.34        140574.81    New York  108552.04\n",
            "25   64664.71       139553.16        137962.62  California  107404.34\n",
            "26   75328.87       144135.98        134050.07     Florida  105733.54\n",
            "27   72107.60       127864.55        353183.81    New York  105008.31\n",
            "28   66051.52       182645.56        118148.20     Florida  103282.38\n",
            "29   65605.48       153032.06        107138.38    New York  101004.64\n",
            "30   61994.48       115641.28         91131.24     Florida   99937.59\n",
            "31   61136.38       152701.92         88218.23    New York   97483.56\n",
            "32   63408.86       129219.61         46085.25  California   97427.84\n",
            "33   55493.95       103057.49        214634.81     Florida   96778.92\n",
            "34   46426.07       157693.92        210797.67  California   96712.80\n",
            "35   46014.02        85047.44        205517.64    New York   96479.51\n",
            "36   28663.76       127056.21        201126.82     Florida        NaN\n",
            "37   44069.95        51283.14        197029.42  California   89949.14\n",
            "38   20229.59        65947.93        185265.10    New York   81229.06\n",
            "39   38558.51        82982.09        174999.30  California   81005.76\n",
            "40   28754.33       118546.05        172795.67  California   78239.91\n",
            "41   27892.92        84710.77        164470.71     Florida   77798.83\n",
            "42   23640.93        96189.63        148001.11  California        NaN\n",
            "43   15505.73       127382.30         35534.17    New York   69758.98\n",
            "44   22177.74       154806.14         28334.72  California   65200.33\n",
            "45    1000.23       124153.04          1903.93    New York   64926.08\n",
            "46    1315.46       115816.21        297114.46     Florida   49490.75\n",
            "47       0.00       135426.92             0.00  California   42559.73\n",
            "48     542.05        51743.15             0.00    New York   35673.41\n",
            "49       0.00       116983.80         45173.06  California   14681.40\n"
          ]
        }
      ]
    },
    {
      "cell_type": "code",
      "source": [
        "x=a['Profit'].values\n",
        "y=a.drop('Profit',axis=1)"
      ],
      "metadata": {
        "id": "rUQIyDohMscP"
      },
      "execution_count": 55,
      "outputs": []
    },
    {
      "cell_type": "code",
      "source": [
        "b='Profit'"
      ],
      "metadata": {
        "id": "EaMZACTyPrX3"
      },
      "execution_count": 56,
      "outputs": []
    },
    {
      "cell_type": "code",
      "source": [
        "independent=a.columns.difference([b])"
      ],
      "metadata": {
        "id": "YMzUm3yiQfu0"
      },
      "execution_count": 57,
      "outputs": []
    },
    {
      "cell_type": "code",
      "source": [
        "missing_values=a.isnull().sum()"
      ],
      "metadata": {
        "id": "QYwIy2gDQwfp"
      },
      "execution_count": 58,
      "outputs": []
    },
    {
      "cell_type": "code",
      "source": [
        "print(missing_values)"
      ],
      "metadata": {
        "colab": {
          "base_uri": "https://localhost:8080/"
        },
        "id": "_ZV-nq7uQ7tM",
        "outputId": "f2d2e3df-5b72-454d-8644-880d0e6438d7"
      },
      "execution_count": 59,
      "outputs": [
        {
          "output_type": "stream",
          "name": "stdout",
          "text": [
            "R&D Spend          0\n",
            "Administration     0\n",
            "Marketing Spend    0\n",
            "State              0\n",
            "Profit             3\n",
            "dtype: int64\n"
          ]
        }
      ]
    },
    {
      "cell_type": "code",
      "source": [
        "scaler=StandardScaler()"
      ],
      "metadata": {
        "id": "79sMswLgS4zi"
      },
      "execution_count": 60,
      "outputs": []
    },
    {
      "cell_type": "code",
      "source": [
        "y['State'] = pd.to_numeric(y['State'], errors='coerce')\n",
        "\n",
        "scale=scaler.fit_transform(y)\n",
        "print(scale)"
      ],
      "metadata": {
        "colab": {
          "base_uri": "https://localhost:8080/"
        },
        "id": "h-fe6WnMUUcp",
        "outputId": "4621ef1a-9c93-473c-fade-56fd72baa179"
      },
      "execution_count": 61,
      "outputs": [
        {
          "output_type": "stream",
          "name": "stdout",
          "text": [
            "[[ 2.01641149e+00  5.60752915e-01  2.15394309e+00             nan]\n",
            " [ 1.95586034e+00  1.08280658e+00  1.92360040e+00             nan]\n",
            " [ 1.75436374e+00 -7.28257028e-01  1.62652767e+00             nan]\n",
            " [ 1.55478369e+00 -9.63646307e-02  1.42221024e+00             nan]\n",
            " [ 1.50493720e+00 -1.07991935e+00  1.28152771e+00             nan]\n",
            " [ 1.27980001e+00 -7.76239071e-01  1.25421046e+00             nan]\n",
            " [ 1.34006641e+00  9.32147208e-01 -6.88149930e-01             nan]\n",
            " [ 1.24505666e+00  8.71980011e-01  9.32185978e-01             nan]\n",
            " [ 1.03036886e+00  9.86952101e-01  8.30886909e-01             nan]\n",
            " [ 1.09181921e+00 -4.56640246e-01  7.76107440e-01             nan]\n",
            " [ 6.20398248e-01 -3.87599089e-01  1.49807267e-01             nan]\n",
            " [ 5.93085418e-01 -1.06553960e+00  3.19833623e-01             nan]\n",
            " [ 4.43259872e-01  2.15449064e-01  3.20617441e-01             nan]\n",
            " [ 4.02077603e-01  5.10178953e-01  3.43956788e-01             nan]\n",
            " [ 1.01718075e+00  1.26919939e+00  3.75742273e-01             nan]\n",
            " [ 8.97913123e-01  4.58678535e-02  4.19218702e-01             nan]\n",
            " [ 9.44411957e-02  9.11841968e-03  4.40446224e-01             nan]\n",
            " [ 4.60720127e-01  8.55666318e-01  5.91016724e-01             nan]\n",
            " [ 3.96724938e-01 -2.58465367e-01  6.92992062e-01             nan]\n",
            " [ 2.79441650e-01  1.15983657e+00 -1.74312698e+00             nan]\n",
            " [ 5.57260867e-02 -2.69587651e-01  7.23925995e-01             nan]\n",
            " [ 1.02723599e-01  1.16918609e+00  7.32787791e-01             nan]\n",
            " [ 6.00657792e-03  5.18495648e-02  7.62375876e-01             nan]\n",
            " [-1.36200724e-01 -5.62211268e-01  7.74348908e-01             nan]\n",
            " [ 7.31146008e-02 -7.95469167e-01 -5.81939297e-01             nan]\n",
            " [-1.99311688e-01  6.56489139e-01 -6.03516725e-01             nan]\n",
            " [ 3.53702028e-02  8.21717916e-01 -6.35835495e-01             nan]\n",
            " [-3.55189938e-02  2.35068543e-01  1.17427116e+00             nan]\n",
            " [-1.68792717e-01  2.21014050e+00 -7.67189437e-01             nan]\n",
            " [-1.78608540e-01  1.14245677e+00 -8.58133663e-01             nan]\n",
            " [-2.58074369e-01 -2.05628659e-01 -9.90357166e-01             nan]\n",
            " [-2.76958231e-01  1.13055391e+00 -1.01441945e+00             nan]\n",
            " [-2.26948675e-01  2.83923813e-01 -1.36244978e+00             nan]\n",
            " [-4.01128925e-01 -6.59324033e-01  2.98172434e-02             nan]\n",
            " [-6.00682122e-01  1.31053525e+00 -1.87861793e-03             nan]\n",
            " [-6.09749941e-01 -1.30865753e+00 -4.54931587e-02             nan]\n",
            " [-9.91570153e-01  2.05924691e-01 -8.17625734e-02             nan]\n",
            " [-6.52532310e-01 -2.52599402e+00 -1.15608256e-01             nan]\n",
            " [-1.17717755e+00 -1.99727037e+00 -2.12784866e-01             nan]\n",
            " [-7.73820359e-01 -1.38312156e+00 -2.97583276e-01             nan]\n",
            " [-9.89577015e-01 -1.00900218e-01 -3.15785883e-01             nan]\n",
            " [-1.00853372e+00 -1.32079581e+00 -3.84552407e-01             nan]\n",
            " [-1.10210556e+00 -9.06937535e-01 -5.20595959e-01             nan]\n",
            " [-1.28113364e+00  2.17681524e-01 -1.44960468e+00             nan]\n",
            " [-1.13430539e+00  1.20641936e+00 -1.50907418e+00             nan]\n",
            " [-1.60035036e+00  1.01253936e-01 -1.72739998e+00             nan]\n",
            " [-1.59341322e+00 -1.99321741e-01  7.11122474e-01             nan]\n",
            " [-1.62236202e+00  5.07721876e-01 -1.74312698e+00             nan]\n",
            " [-1.61043334e+00 -2.50940884e+00 -1.74312698e+00             nan]\n",
            " [-1.62236202e+00 -1.57225506e-01 -1.36998473e+00             nan]]\n"
          ]
        },
        {
          "output_type": "stream",
          "name": "stderr",
          "text": [
            "/usr/local/lib/python3.10/dist-packages/sklearn/utils/extmath.py:1047: RuntimeWarning: invalid value encountered in divide\n",
            "  updated_mean = (last_sum + new_sum) / updated_sample_count\n",
            "/usr/local/lib/python3.10/dist-packages/sklearn/utils/extmath.py:1052: RuntimeWarning: invalid value encountered in divide\n",
            "  T = new_sum / new_sample_count\n",
            "/usr/local/lib/python3.10/dist-packages/sklearn/utils/extmath.py:1072: RuntimeWarning: invalid value encountered in divide\n",
            "  new_unnormalized_variance -= correction**2 / new_sample_count\n"
          ]
        }
      ]
    },
    {
      "cell_type": "code",
      "source": [
        "x_train,x_test,y_train,y_test = train_test_split(x,y,train_size=0.70,test_size=0.30)"
      ],
      "metadata": {
        "id": "WU0G6du5UdkY"
      },
      "execution_count": 62,
      "outputs": []
    },
    {
      "cell_type": "code",
      "source": [
        "from sklearn.metrics.pairwise import cosine_similarity"
      ],
      "metadata": {
        "id": "MGHDxzlDYdRG"
      },
      "execution_count": 63,
      "outputs": []
    },
    {
      "cell_type": "code",
      "source": [
        "y=y.drop('State',axis=1)\n",
        "cos=cosine_similarity(y.iloc[[1]],y.iloc[[2]])"
      ],
      "metadata": {
        "id": "U_5iO-vGYl79"
      },
      "execution_count": 64,
      "outputs": []
    },
    {
      "cell_type": "code",
      "source": [
        "print(cos)"
      ],
      "metadata": {
        "colab": {
          "base_uri": "https://localhost:8080/"
        },
        "id": "0k6HeY_mZSwZ",
        "outputId": "87063759-19ee-49ba-9823-c2b4516ea163"
      },
      "execution_count": 65,
      "outputs": [
        {
          "output_type": "stream",
          "name": "stdout",
          "text": [
            "[[0.99661651]]\n"
          ]
        }
      ]
    }
  ]
}